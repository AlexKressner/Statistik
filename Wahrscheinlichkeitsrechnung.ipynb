{
  "nbformat": 4,
  "nbformat_minor": 0,
  "metadata": {
    "colab": {
      "provenance": [],
      "authorship_tag": "ABX9TyP0E1AaqlYSsx/cH+0gjZwo",
      "include_colab_link": true
    },
    "kernelspec": {
      "name": "python3",
      "display_name": "Python 3"
    },
    "language_info": {
      "name": "python"
    }
  },
  "cells": [
    {
      "cell_type": "markdown",
      "metadata": {
        "id": "view-in-github",
        "colab_type": "text"
      },
      "source": [
        "<a href=\"https://colab.research.google.com/github/AlexKressner/Statistik/blob/main/Wahrscheinlichkeitsrechnung.ipynb\" target=\"_parent\"><img src=\"https://colab.research.google.com/assets/colab-badge.svg\" alt=\"Open In Colab\"/></a>"
      ]
    },
    {
      "cell_type": "code",
      "execution_count": 20,
      "metadata": {
        "id": "s5iZv2Tizn5s"
      },
      "outputs": [],
      "source": [
        "from scipy.stats import bernoulli\n",
        "import matplotlib.pyplot as plt\n",
        "import numpy as np\n",
        "import pandas as pd"
      ]
    },
    {
      "cell_type": "code",
      "source": [
        "number_of_trials = 2\n",
        "heads = 0\n",
        "tails = 0\n",
        "ratio = []\n",
        "p = 0.5"
      ],
      "metadata": {
        "id": "HzRmtejr0yN_"
      },
      "execution_count": null,
      "outputs": []
    },
    {
      "cell_type": "code",
      "source": [
        "for trial in range(1,number_of_trials+1):\n",
        "  result = bernoulli.rvs(p)\n",
        "  if result == 1:\n",
        "    heads +=1\n",
        "  else:\n",
        "    tails +=1\n",
        "  ratio.append([trial,heads/trial])"
      ],
      "metadata": {
        "id": "ac2LaYEz0pgf"
      },
      "execution_count": null,
      "outputs": []
    },
    {
      "cell_type": "code",
      "source": [
        "heads, tails"
      ],
      "metadata": {
        "id": "MYaBVd_J10eS"
      },
      "execution_count": null,
      "outputs": []
    },
    {
      "cell_type": "code",
      "source": [
        "y = [point[1] for point in ratio]\n",
        "x = [point[0] for point in ratio]"
      ],
      "metadata": {
        "id": "34fExhHJ13bm"
      },
      "execution_count": null,
      "outputs": []
    },
    {
      "cell_type": "code",
      "source": [
        "# Plot the line\n",
        "plt.plot(x, y, label='Rel. Häufigkeit \"Kopf\"')\n",
        "\n",
        "# Add title and labels to the axes\n",
        "plt.title(f'Rel. Häufigkeit für das Ergebnis \"Kopf\" bei {number_of_trials}-maligem Münzwurf')\n",
        "plt.xlabel(\"Anzahl Zufallsexperimente\")\n",
        "plt.ylabel(\"% Kopf\")\n",
        "\n",
        "# Display the legend\n",
        "plt.legend()\n",
        "\n",
        "# Display the plot\n",
        "plt.grid(True)\n",
        "plt.show()"
      ],
      "metadata": {
        "id": "1Yu6gQM124Na"
      },
      "execution_count": null,
      "outputs": []
    },
    {
      "cell_type": "markdown",
      "source": [
        "## Anzahl der Stichproben und Fehlerwahrscheinlichkeit"
      ],
      "metadata": {
        "id": "i47HwlP21VM1"
      }
    },
    {
      "cell_type": "code",
      "source": [],
      "metadata": {
        "id": "1em05MG_1TJi"
      },
      "execution_count": null,
      "outputs": []
    },
    {
      "cell_type": "code",
      "source": [],
      "metadata": {
        "id": "bznCNbok4YE_"
      },
      "execution_count": null,
      "outputs": []
    },
    {
      "cell_type": "code",
      "source": [],
      "metadata": {
        "id": "F2s6_-PG5yII"
      },
      "execution_count": null,
      "outputs": []
    },
    {
      "cell_type": "code",
      "source": [],
      "metadata": {
        "id": "3wogKDu72OoX"
      },
      "execution_count": null,
      "outputs": []
    },
    {
      "cell_type": "markdown",
      "source": [
        "## Obstgarten"
      ],
      "metadata": {
        "id": "rF4LFNMJ0C7e"
      }
    },
    {
      "cell_type": "code",
      "source": [
        "import random"
      ],
      "metadata": {
        "id": "xDA4Z4zR1Kei"
      },
      "execution_count": 44,
      "outputs": []
    },
    {
      "cell_type": "code",
      "source": [
        "trials = 10000\n",
        "rabe_win = 0\n",
        "kind_win = 0\n",
        "ratio = []"
      ],
      "metadata": {
        "id": "A6TmpzHh3I_W"
      },
      "execution_count": 57,
      "outputs": []
    },
    {
      "cell_type": "code",
      "source": [
        "wuerfel = [\"Rabe\", \"Gelb\", \"Rot\", \"Grün\", \"Lila\"]"
      ],
      "metadata": {
        "id": "MQK64o6o0Fv1"
      },
      "execution_count": 58,
      "outputs": []
    },
    {
      "cell_type": "code",
      "source": [
        "for trial in range(trials):\n",
        "  play = True\n",
        "  # Spielsituation\n",
        "  state = {\"Rabe\":2, \"Gelb\":3, \"Rot\":0, \"Grün\":0, \"Lila\": 1}\n",
        "  while play:\n",
        "    wurf = random.choice(wuerfel)\n",
        "    state[wurf] -= 1\n",
        "    if state[\"Rabe\"] == 0:\n",
        "      rabe_win += 1\n",
        "      play = False\n",
        "    if (state[\"Gelb\"] <= 0) and (state[\"Lila\"] <= 0):\n",
        "      kind_win += 1\n",
        "      play = False\n",
        "    if not play:\n",
        "      ratio.append([trial, rabe_win/(trial+1)])"
      ],
      "metadata": {
        "id": "LGLO2r-m0Qsc"
      },
      "execution_count": 59,
      "outputs": []
    },
    {
      "cell_type": "code",
      "source": [
        "rabe_win, kind_win, ratio[-1][1]"
      ],
      "metadata": {
        "id": "SCZ_haIv3C7E",
        "outputId": "65e0ab4b-3109-4f30-a900-04f05d83c6e2",
        "colab": {
          "base_uri": "https://localhost:8080/"
        }
      },
      "execution_count": 60,
      "outputs": [
        {
          "output_type": "execute_result",
          "data": {
            "text/plain": [
              "(7191, 2809, 0.7191)"
            ]
          },
          "metadata": {},
          "execution_count": 60
        }
      ]
    },
    {
      "cell_type": "code",
      "source": [
        "y = [point[1] for point in ratio]\n",
        "x = [point[0] for point in ratio]"
      ],
      "metadata": {
        "id": "onb3TpLL2PF3"
      },
      "execution_count": 61,
      "outputs": []
    },
    {
      "cell_type": "code",
      "source": [
        "# Plot the line\n",
        "plt.plot(x, y, label='Rel. Häufigkeit \"Rabe gewinnt\"')\n",
        "\n",
        "# Add title and labels to the axes\n",
        "plt.title(f'Rel. Häufigkeit für \"Rabe gewinnt\" bei {trials} Spielen')\n",
        "plt.xlabel(\"Anzahl Spiele\")\n",
        "plt.ylabel(\"% Rabe gewinnt\")\n",
        "\n",
        "# Display the legend\n",
        "plt.legend()\n",
        "\n",
        "# Display the plot\n",
        "plt.grid(True)\n",
        "plt.show()"
      ],
      "metadata": {
        "id": "deBUUgb52nLw",
        "outputId": "606a4572-60b3-4fd6-c76c-4ce40f0e0595",
        "colab": {
          "base_uri": "https://localhost:8080/",
          "height": 472
        }
      },
      "execution_count": 62,
      "outputs": [
        {
          "output_type": "display_data",
          "data": {
            "text/plain": [
              "<Figure size 640x480 with 1 Axes>"
            ],
            "image/png": "[encoded data removed]"
          },
          "metadata": {}
        }
      ]
    },
    {
      "cell_type": "markdown",
      "source": [
        "## Binomialverteilung"
      ],
      "metadata": {
        "id": "niAwFrskvJGi"
      }
    },
    {
      "cell_type": "code",
      "source": [
        "import scipy\n",
        "import numpy as np"
      ],
      "metadata": {
        "id": "9-0qO7Kp59n9"
      },
      "execution_count": null,
      "outputs": []
    },
    {
      "cell_type": "markdown",
      "source": [
        "### Beispiel \"Münzwurf\""
      ],
      "metadata": {
        "id": "n_xYPQU7y-sY"
      }
    },
    {
      "cell_type": "code",
      "source": [
        "N=10 # Anzahl der Experimente\n",
        "k=4 # Anzahl Erfolge (Kopf)\n",
        "p=0.5 # Erfolgswahrscheinlichkeit"
      ],
      "metadata": {
        "id": "MmmkLVrwvPgX"
      },
      "execution_count": null,
      "outputs": []
    },
    {
      "cell_type": "code",
      "source": [
        "scipy.stats.binom.pmf(k,N,p)"
      ],
      "metadata": {
        "id": "BCuMUbIGvUIA"
      },
      "execution_count": null,
      "outputs": []
    },
    {
      "cell_type": "code",
      "source": [
        "np.sum(scipy.stats.binom.pmf(0,N,p)+scipy.stats.binom.pmf(1,N,p)+scipy.stats.binom.pmf(2,N,p)+scipy.stats.binom.pmf(3,N,p)+scipy.stats.binom.pmf(4,N,p))"
      ],
      "metadata": {
        "id": "XGJCghKmweQW"
      },
      "execution_count": null,
      "outputs": []
    },
    {
      "cell_type": "code",
      "source": [
        "scipy.stats.binom.cdf(k,N,p)"
      ],
      "metadata": {
        "id": "W70NXQsVva4Y"
      },
      "execution_count": null,
      "outputs": []
    },
    {
      "cell_type": "code",
      "source": [
        "l = []\n",
        "for k in range(N+1):\n",
        "  l.append([k,scipy.stats.binom.pmf(k,N,p)])"
      ],
      "metadata": {
        "id": "XU8XPgbWwYy8"
      },
      "execution_count": null,
      "outputs": []
    },
    {
      "cell_type": "code",
      "source": [
        "l"
      ],
      "metadata": {
        "id": "AIUjZlCeyoO1"
      },
      "execution_count": null,
      "outputs": []
    },
    {
      "cell_type": "code",
      "source": [
        "x = pd.DataFrame(l, columns=[\"k\",\"Wahrscheinlichkeit\"])"
      ],
      "metadata": {
        "id": "uloz9MYGxQmE"
      },
      "execution_count": null,
      "outputs": []
    },
    {
      "cell_type": "code",
      "source": [
        "x.plot(x=\"k\", y=\"Wahrscheinlichkeit\", kind=\"bar\")"
      ],
      "metadata": {
        "id": "Nk7NSmXuxlxW"
      },
      "execution_count": null,
      "outputs": []
    },
    {
      "cell_type": "markdown",
      "source": [
        "### Beispiel Flugzeugmotor"
      ],
      "metadata": {
        "id": "n6WsO4tczCQQ"
      }
    },
    {
      "cell_type": "code",
      "source": [
        "N=4 # Anzahl Motoren\n",
        "p=0.95 # Erfolgswahrscheinlichkeit"
      ],
      "metadata": {
        "id": "x_lxFoJqxcJC"
      },
      "execution_count": null,
      "outputs": []
    },
    {
      "cell_type": "code",
      "source": [
        "scipy.stats.binom.pmf(2,N,p)+scipy.stats.binom.pmf(3,N,p)+scipy.stats.binom.pmf(4,N,p)"
      ],
      "metadata": {
        "id": "9KyvvuRdzLBb"
      },
      "execution_count": null,
      "outputs": []
    },
    {
      "cell_type": "code",
      "source": [
        "probs = []"
      ],
      "metadata": {
        "id": "vuPZZ390zYmk"
      },
      "execution_count": null,
      "outputs": []
    },
    {
      "cell_type": "code",
      "source": [
        "for p in range(1,100):\n",
        "  prob = p/100\n",
        "  prob = np.sum(scipy.stats.binom.pmf(2,N,prob)+scipy.stats.binom.pmf(3,N,prob)+scipy.stats.binom.pmf(4,N,prob))\n",
        "  probs.append([p, prob])\n"
      ],
      "metadata": {
        "id": "J_smI5hhzSM1"
      },
      "execution_count": null,
      "outputs": []
    },
    {
      "cell_type": "code",
      "source": [
        "x = pd.DataFrame(probs, columns=[\"k\",\"Wahrscheinlichkeit\"])"
      ],
      "metadata": {
        "id": "RVssFzliznSh"
      },
      "execution_count": null,
      "outputs": []
    },
    {
      "cell_type": "code",
      "source": [
        "x.plot(x=\"k\", y=\"Wahrscheinlichkeit\", kind=\"line\")"
      ],
      "metadata": {
        "id": "SmhtXd5lzpaM"
      },
      "execution_count": null,
      "outputs": []
    },
    {
      "cell_type": "markdown",
      "source": [
        "### Multinomialverteilung"
      ],
      "metadata": {
        "id": "vmThYsO41qiq"
      }
    },
    {
      "cell_type": "code",
      "source": [
        "scipy.stats.multinomial.pmf([3,2,3,2],10,[0.2,0.2,0.2,0.4])"
      ],
      "metadata": {
        "id": "E5LkMD16z6vd"
      },
      "execution_count": null,
      "outputs": []
    },
    {
      "cell_type": "markdown",
      "source": [
        "## Zentraler Grenzwertsatz"
      ],
      "metadata": {
        "id": "pNSVOjbNbO-9"
      }
    },
    {
      "cell_type": "code",
      "source": [
        "num_trials = 200 # Anzahl Zufallsexperimente\n",
        "num_samples = 1 # Anzahl Zufallsvariablen"
      ],
      "metadata": {
        "id": "dsQ9v6q2gocC"
      },
      "execution_count": null,
      "outputs": []
    },
    {
      "cell_type": "code",
      "source": [
        "# Parameter Binomialverteilung\n",
        "N = 10\n",
        "p = 0.5"
      ],
      "metadata": {
        "id": "nelsNPh9b-s8"
      },
      "execution_count": null,
      "outputs": []
    },
    {
      "cell_type": "code",
      "source": [
        "# Parameter Betaverteilung\n",
        "a = 1\n",
        "b = 5"
      ],
      "metadata": {
        "id": "PqfvP1_nmLCR"
      },
      "execution_count": null,
      "outputs": []
    },
    {
      "cell_type": "code",
      "source": [
        "binom_sample_sum = []\n",
        "beta_sample_sum = []"
      ],
      "metadata": {
        "id": "_jGeCoqdmN9y"
      },
      "execution_count": null,
      "outputs": []
    },
    {
      "cell_type": "code",
      "source": [
        "for trial in range(num_trials):\n",
        "  binom_sample_sum.append([trial, np.sum(scipy.stats.binom.rvs(N,p,size=num_samples))])\n",
        "  beta_sample_sum.append([trial, np.sum(scipy.stats.beta.rvs(a,b,size=num_samples))])"
      ],
      "metadata": {
        "id": "DWff5X7O10u1"
      },
      "execution_count": null,
      "outputs": []
    },
    {
      "cell_type": "code",
      "source": [
        "binom = pd.DataFrame(binom_sample_sum, columns=[\"Trial\",\"Summe\"])\n",
        "beta = pd.DataFrame(beta_sample_sum, columns=[\"Trial\",\"Summe\"])"
      ],
      "metadata": {
        "id": "BWvBabmYb0G-"
      },
      "execution_count": null,
      "outputs": []
    },
    {
      "cell_type": "code",
      "source": [
        "binom[\"Summe\"].plot(kind=\"hist\", edgecolor=\"black\", bins=20)"
      ],
      "metadata": {
        "id": "PQbt0f6acKvz"
      },
      "execution_count": null,
      "outputs": []
    },
    {
      "cell_type": "code",
      "source": [
        "beta[\"Summe\"].plot(kind=\"hist\", edgecolor=\"black\", bins=20)"
      ],
      "metadata": {
        "id": "REg7l6zNdt6f"
      },
      "execution_count": null,
      "outputs": []
    },
    {
      "cell_type": "markdown",
      "source": [
        "## Beispiel Qualitätskontrolle\n",
        "Sei $Y$ der Durchmesser ein Schraube mit $Y\\sim N(\\mu,σ^2)$"
      ],
      "metadata": {
        "id": "V01jR_rtvnN_"
      }
    },
    {
      "cell_type": "code",
      "source": [
        "mue = 5\n",
        "sigma = 0.1"
      ],
      "metadata": {
        "id": "ybGY8kM5e3ir"
      },
      "execution_count": null,
      "outputs": []
    },
    {
      "cell_type": "code",
      "source": [
        "lower = 4.9\n",
        "upper = 5.1"
      ],
      "metadata": {
        "id": "saH1alXFv1E0"
      },
      "execution_count": null,
      "outputs": []
    },
    {
      "cell_type": "code",
      "source": [
        "# Wahrscheinlichkeit P(Y<=4,9)\n",
        "prob_lower = scipy.stats.norm.cdf(lower, mue, sigma)"
      ],
      "metadata": {
        "id": "uqbkI1vnwdDZ"
      },
      "execution_count": null,
      "outputs": []
    },
    {
      "cell_type": "code",
      "source": [
        "# Wahrscheinlichkeit P(Y<=5,1)\n",
        "prob_upper = scipy.stats.norm.cdf(upper, mue, sigma)"
      ],
      "metadata": {
        "id": "mjJ1lDXpvtc8"
      },
      "execution_count": null,
      "outputs": []
    },
    {
      "cell_type": "code",
      "source": [
        "# Wahrscheinlichkeit P(4,9<Y<=5,1)\n",
        "prob_upper - prob_lower"
      ],
      "metadata": {
        "id": "X89dDWpewU37"
      },
      "execution_count": null,
      "outputs": []
    },
    {
      "cell_type": "code",
      "source": [
        "# Finde den Durchmesser, unter dem 95% aller Schrauben liegen, d.h. 95%-Quantil, F^(-1)(0,95)\n",
        "scipy.stats.norm.ppf(0.95,mue,sigma)\n",
        "#bzw.\n",
        "mue + sigma*scipy.stats.norm.ppf(0.95,0,1)"
      ],
      "metadata": {
        "id": "a9OSIPjtw0uw"
      },
      "execution_count": null,
      "outputs": []
    },
    {
      "cell_type": "markdown",
      "source": [
        "## Beispiel Bestandsmanagement"
      ],
      "metadata": {
        "id": "_8elT_723nIY"
      }
    },
    {
      "cell_type": "code",
      "source": [
        "mue = 100\n",
        "sigma = 20"
      ],
      "metadata": {
        "id": "FJSfnYLM3mav"
      },
      "execution_count": null,
      "outputs": []
    },
    {
      "cell_type": "code",
      "source": [
        "inventory = []"
      ],
      "metadata": {
        "id": "BZJ_X2XY4IGr"
      },
      "execution_count": null,
      "outputs": []
    },
    {
      "cell_type": "code",
      "source": [
        "for sl in range(5000,9999):\n",
        "  sl = sl/10000\n",
        "  inventory.append([sl,scipy.stats.norm.ppf(sl, mue, sigma)])"
      ],
      "metadata": {
        "id": "FL9ukRXExp7G"
      },
      "execution_count": null,
      "outputs": []
    },
    {
      "cell_type": "code",
      "source": [],
      "metadata": {
        "id": "8FxCjGGu1KRS"
      },
      "execution_count": null,
      "outputs": []
    },
    {
      "cell_type": "code",
      "source": [
        "inventory = pd.DataFrame(inventory, columns=[\"ServiceLevel\",\"Bestand\"])"
      ],
      "metadata": {
        "id": "GM9UHrZH4US1"
      },
      "execution_count": null,
      "outputs": []
    },
    {
      "cell_type": "code",
      "source": [
        "inventory.plot(x=\"ServiceLevel\", y=\"Bestand\", kind=\"line\")"
      ],
      "metadata": {
        "id": "k8puRFlm4WdF"
      },
      "execution_count": null,
      "outputs": []
    },
    {
      "cell_type": "code",
      "source": [
        "mue = 86.25\n",
        "sigma = 36.224"
      ],
      "metadata": {
        "id": "6cdsCD154n_k"
      },
      "execution_count": null,
      "outputs": []
    },
    {
      "cell_type": "code",
      "source": [
        "servicelevel = []"
      ],
      "metadata": {
        "id": "k-wsOawS777K"
      },
      "execution_count": null,
      "outputs": []
    },
    {
      "cell_type": "code",
      "source": [
        "for b in range(50,250):\n",
        "  servicelevel.append([b,scipy.stats.norm.cdf(b, mue, sigma)])"
      ],
      "metadata": {
        "id": "dMwU5VQY7_nZ"
      },
      "execution_count": null,
      "outputs": []
    },
    {
      "cell_type": "code",
      "source": [
        "servicelevel = pd.DataFrame(servicelevel, columns=[\"Bestand\",\"ServiceLevel\"])"
      ],
      "metadata": {
        "id": "qNcoifxA8L0_"
      },
      "execution_count": null,
      "outputs": []
    },
    {
      "cell_type": "code",
      "source": [
        "servicelevel.plot(y=\"ServiceLevel\", x=\"Bestand\", kind=\"line\")"
      ],
      "metadata": {
        "id": "9I5ZcxlG8MY5"
      },
      "execution_count": null,
      "outputs": []
    },
    {
      "cell_type": "markdown",
      "source": [
        "## **Exkurs: Bayes Schätzer**"
      ],
      "metadata": {
        "id": "QSYljtnVrcnC"
      }
    },
    {
      "cell_type": "markdown",
      "source": [
        "## **Prior** zum Münzwurf, **$P(θ)$**, Modellierung über Betaverteilung"
      ],
      "metadata": {
        "id": "jTDFwIx74NaQ"
      }
    },
    {
      "cell_type": "code",
      "source": [
        "# Verteilungsparameter der Betaverteilung\n",
        "# Über die Wahl der Parameter drücken wir unser aktuelles Wissen zum Ausgang des Zufallsexperiments aus bevor wir die Daten beobachten\n",
        "a = 2 # Anzahl Kopf\n",
        "b = 2 # Anzahl Zahl"
      ],
      "metadata": {
        "id": "-L748FDh46-g"
      },
      "execution_count": null,
      "outputs": []
    },
    {
      "cell_type": "code",
      "source": [
        "p = np.arange(1,999)/1000"
      ],
      "metadata": {
        "id": "iaydBtL6OmBP"
      },
      "execution_count": null,
      "outputs": []
    },
    {
      "cell_type": "code",
      "source": [
        "prior = scipy.stats.beta.pdf(p, a, b)"
      ],
      "metadata": {
        "id": "WXiVOp38PAcb"
      },
      "execution_count": null,
      "outputs": []
    },
    {
      "cell_type": "code",
      "source": [
        "fig, ax = plt.subplots(1, 1)\n",
        "ax.plot(\n",
        "    p,\n",
        "    prior,\n",
        "    ms=1,\n",
        "    label=f\"Prior Beta({a},{b})\"\n",
        "    )\n",
        "ax.set_title('Dichtefunktion für den Verteilungsparameter $p$ der Bernoulli-Verteilung (betaverteilt)')\n",
        "ax.set_xlabel('p')\n",
        "ax.set_ylabel('f(p)')\n",
        "ax.legend()\n",
        "plt.show()"
      ],
      "metadata": {
        "id": "_u2OyvsZPFE0"
      },
      "execution_count": null,
      "outputs": []
    },
    {
      "cell_type": "markdown",
      "source": [
        "## **Likelihood Funktion** zum Münzwurf, **$P(D|θ)$**, Modellierung über Bernoulliverteilung"
      ],
      "metadata": {
        "id": "K_0njXX3__44"
      }
    },
    {
      "cell_type": "code",
      "source": [
        "# Wir nehmen an, dass die realisierten Daten die folgenden sind:\n",
        "N_Kopf = 4\n",
        "N_Zahl = 1"
      ],
      "metadata": {
        "id": "v-uKCFoTB-JE"
      },
      "execution_count": null,
      "outputs": []
    },
    {
      "cell_type": "code",
      "source": [
        "llh = scipy.stats.bernoulli.pmf(1,p)**N_Kopf * (1-scipy.stats.bernoulli.pmf(1,p))**N_Zahl"
      ],
      "metadata": {
        "id": "mFKBhLEFAjbM"
      },
      "execution_count": null,
      "outputs": []
    },
    {
      "cell_type": "code",
      "source": [
        "fig, ax = plt.subplots(1, 1)\n",
        "ax.plot(\n",
        "    p,\n",
        "    llh,\n",
        "    ms=1,\n",
        "    label=f\"LLH Bern({N_Kopf},{N_Zahl})\",\n",
        "    color=\"red\"\n",
        "    )\n",
        "ax.set_title(f\"Wahrscheinlichkeit {N_Kopf}-mal Kopf und {N_Zahl}-mal Zahl zu beobachten in Abhängigkeit von $p$\")\n",
        "ax.set_xlabel('p')\n",
        "ax.set_ylabel('f(p)')\n",
        "ax.legend()\n",
        "plt.show()"
      ],
      "metadata": {
        "id": "l1FNaGLSRGAI"
      },
      "execution_count": null,
      "outputs": []
    },
    {
      "cell_type": "markdown",
      "source": [
        "## **Posterior** zum Münzwurf, **$P(θ|D)$**$=\\frac{P(D|θ)P(θ)}{P(D)}$"
      ],
      "metadata": {
        "id": "Xc4AEgXwLOQ7"
      }
    },
    {
      "cell_type": "code",
      "source": [
        "p_D = (llh*prior).sum()"
      ],
      "metadata": {
        "id": "wkmNLC98DgdE"
      },
      "execution_count": null,
      "outputs": []
    },
    {
      "cell_type": "code",
      "source": [
        "posterior = llh * prior / p_D"
      ],
      "metadata": {
        "id": "_fGdFGz-Rj3H"
      },
      "execution_count": null,
      "outputs": []
    },
    {
      "cell_type": "code",
      "source": [
        "fig, ax = plt.subplots(1, 1)\n",
        "ax.plot(\n",
        "    p,\n",
        "    posterior,\n",
        "    ms=1,\n",
        "    label=\"Posterior\",\n",
        "    color=\"black\",\n",
        "    linestyle='--'\n",
        "    )\n",
        "ax.set_xlabel('p')\n",
        "ax.set_ylabel('f(p)')\n",
        "ax.legend()\n",
        "plt.show()"
      ],
      "metadata": {
        "id": "wd-cVL0CMbC_"
      },
      "execution_count": null,
      "outputs": []
    },
    {
      "cell_type": "markdown",
      "source": [
        "### **Posterior mode**, $\\hat{θ}=\\text{arg max}_θ P(θ|D)$"
      ],
      "metadata": {
        "id": "HIgGXyo61uZH"
      }
    },
    {
      "cell_type": "code",
      "source": [
        "p[posterior.argmax()]"
      ],
      "metadata": {
        "id": "Dqk8Wqre1swt"
      },
      "execution_count": null,
      "outputs": []
    },
    {
      "cell_type": "markdown",
      "source": [
        "### **Posterior mean**, $E[θ|D] = \\int θ P(θ|D)P \\mathrm{d}θ$"
      ],
      "metadata": {
        "id": "_d67_V8J2V19"
      }
    },
    {
      "cell_type": "code",
      "source": [
        "(p * posterior).sum()"
      ],
      "metadata": {
        "id": "tEMzbnPWTZ-Q"
      },
      "execution_count": null,
      "outputs": []
    },
    {
      "cell_type": "markdown",
      "source": [
        "### **Posterior Prediction**,\n",
        "$P(y=1|D)=\\int_{0}^{1}P(y=1|θ)P(θ|D)\\mathrm{d}θ$ für Zahl und\n",
        "\n",
        "$P(y=0|D)=\\int_{0}^{1}P(y=0|θ)P(θ|D)\\mathrm{d}θ$ für Kopf"
      ],
      "metadata": {
        "id": "l3of1Iqx4o4A"
      }
    },
    {
      "cell_type": "code",
      "source": [
        "(scipy.stats.bernoulli.pmf(1, p) * posterior).sum()"
      ],
      "metadata": {
        "id": "mQM9XDSBVIz6"
      },
      "execution_count": null,
      "outputs": []
    },
    {
      "cell_type": "code",
      "source": [
        "(scipy.stats.bernoulli.pmf(0, p) * posterior).sum()"
      ],
      "metadata": {
        "id": "WF6ZGCnH4uq6"
      },
      "execution_count": null,
      "outputs": []
    },
    {
      "cell_type": "code",
      "source": [],
      "metadata": {
        "id": "QiFWfRUNrYXf"
      },
      "execution_count": null,
      "outputs": []
    }
  ]
}