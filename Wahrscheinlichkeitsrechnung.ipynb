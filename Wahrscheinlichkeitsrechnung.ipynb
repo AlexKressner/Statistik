{
  "nbformat": 4,
  "nbformat_minor": 0,
  "metadata": {
    "colab": {
      "provenance": [],
      "authorship_tag": "ABX9TyPi+w1Xlxgovn6MEPOUItWd",
      "include_colab_link": true
    },
    "kernelspec": {
      "name": "python3",
      "display_name": "Python 3"
    },
    "language_info": {
      "name": "python"
    }
  },
  "cells": [
    {
      "cell_type": "markdown",
      "metadata": {
        "id": "view-in-github",
        "colab_type": "text"
      },
      "source": [
        "<a href=\"https://colab.research.google.com/github/AlexKressner/Statistik/blob/main/Wahrscheinlichkeitsrechnung.ipynb\" target=\"_parent\"><img src=\"https://colab.research.google.com/assets/colab-badge.svg\" alt=\"Open In Colab\"/></a>"
      ]
    },
    {
      "cell_type": "code",
      "execution_count": null,
      "metadata": {
        "id": "s5iZv2Tizn5s"
      },
      "outputs": [],
      "source": [
        "from scipy.stats import bernoulli\n",
        "import matplotlib.pyplot as plt\n",
        "import numpy as np\n",
        "import pandas as pd"
      ]
    },
    {
      "cell_type": "code",
      "source": [
        "number_of_trials = 100000\n",
        "heads = 0\n",
        "tails = 0\n",
        "ratio = []\n",
        "p = 0.5"
      ],
      "metadata": {
        "id": "HzRmtejr0yN_"
      },
      "execution_count": null,
      "outputs": []
    },
    {
      "cell_type": "code",
      "source": [
        "for trial in range(1,number_of_trials+1):\n",
        "  result = bernoulli.rvs(p)\n",
        "  if result == 1:\n",
        "    heads +=1\n",
        "  else:\n",
        "    tails +=1\n",
        "  ratio.append([trial,heads/trial])"
      ],
      "metadata": {
        "id": "ac2LaYEz0pgf"
      },
      "execution_count": null,
      "outputs": []
    },
    {
      "cell_type": "code",
      "source": [
        "heads, tails"
      ],
      "metadata": {
        "id": "MYaBVd_J10eS"
      },
      "execution_count": null,
      "outputs": []
    },
    {
      "cell_type": "code",
      "source": [
        "y = [point[1] for point in ratio]\n",
        "x = [point[0] for point in ratio]"
      ],
      "metadata": {
        "id": "34fExhHJ13bm"
      },
      "execution_count": null,
      "outputs": []
    },
    {
      "cell_type": "code",
      "source": [
        "# Plot the line\n",
        "plt.plot(x, y, label='Rel. Häufigkeit \"Kopf\"')\n",
        "\n",
        "# Add title and labels to the axes\n",
        "plt.title(f'Rel. Häufigkeit für das Ergebnis \"Kopf\" bei {number_of_trials}-maligem Münzwurf')\n",
        "plt.xlabel(\"Anzahl Zufallsexperimente\")\n",
        "plt.ylabel(\"% Kopf\")\n",
        "\n",
        "# Display the legend\n",
        "plt.legend()\n",
        "\n",
        "# Display the plot\n",
        "plt.grid(True)\n",
        "plt.show()"
      ],
      "metadata": {
        "id": "1Yu6gQM124Na"
      },
      "execution_count": null,
      "outputs": []
    },
    {
      "cell_type": "markdown",
      "source": [
        "## Anzahl der Stichproben und Fehlerwahrscheinlichkeit"
      ],
      "metadata": {
        "id": "i47HwlP21VM1"
      }
    },
    {
      "cell_type": "code",
      "source": [
        "trials = range(0,79)"
      ],
      "metadata": {
        "id": "1em05MG_1TJi"
      },
      "execution_count": null,
      "outputs": []
    },
    {
      "cell_type": "code",
      "source": [
        "p = []\n",
        "prob=[]\n",
        "for trial in trials:\n",
        "  p.append((68-trial)/(80-trial))\n",
        "  prob.append([trial+1,np.prod(p)])"
      ],
      "metadata": {
        "id": "bznCNbok4YE_"
      },
      "execution_count": null,
      "outputs": []
    },
    {
      "cell_type": "code",
      "source": [
        "x = pd.DataFrame(prob, columns=[\"Trial\",\"Irrtumswahrscheinlichkeit\"])\n",
        "x"
      ],
      "metadata": {
        "id": "F2s6_-PG5yII"
      },
      "execution_count": null,
      "outputs": []
    },
    {
      "cell_type": "code",
      "source": [
        "x.plot(x=\"Trial\", y=\"Irrtumswahrscheinlichkeit\", kind=\"line\")"
      ],
      "metadata": {
        "id": "3wogKDu72OoX"
      },
      "execution_count": null,
      "outputs": []
    },
    {
      "cell_type": "markdown",
      "source": [
        "## Binomialverteilung"
      ],
      "metadata": {
        "id": "niAwFrskvJGi"
      }
    },
    {
      "cell_type": "code",
      "source": [
        "import scipy\n",
        "import numpy as np"
      ],
      "metadata": {
        "id": "9-0qO7Kp59n9"
      },
      "execution_count": null,
      "outputs": []
    },
    {
      "cell_type": "markdown",
      "source": [
        "### Beispiel \"Münzwurf\""
      ],
      "metadata": {
        "id": "n_xYPQU7y-sY"
      }
    },
    {
      "cell_type": "code",
      "source": [
        "N=10 # Anzahl der Experimente\n",
        "k=4 # Anzahl Erfolge (Kopf)\n",
        "p=0.5 # Erfolgswahrscheinlichkeit"
      ],
      "metadata": {
        "id": "MmmkLVrwvPgX"
      },
      "execution_count": null,
      "outputs": []
    },
    {
      "cell_type": "code",
      "source": [
        "scipy.stats.binom.pmf(k,N,p)"
      ],
      "metadata": {
        "id": "BCuMUbIGvUIA"
      },
      "execution_count": null,
      "outputs": []
    },
    {
      "cell_type": "code",
      "source": [
        "np.sum(scipy.stats.binom.pmf(0,N,p)+scipy.stats.binom.pmf(1,N,p)+scipy.stats.binom.pmf(2,N,p)+scipy.stats.binom.pmf(3,N,p)+scipy.stats.binom.pmf(4,N,p))"
      ],
      "metadata": {
        "id": "XGJCghKmweQW"
      },
      "execution_count": null,
      "outputs": []
    },
    {
      "cell_type": "code",
      "source": [
        "scipy.stats.binom.cdf(k,N,p)"
      ],
      "metadata": {
        "id": "W70NXQsVva4Y"
      },
      "execution_count": null,
      "outputs": []
    },
    {
      "cell_type": "code",
      "source": [
        "l = []\n",
        "for k in range(N+1):\n",
        "  l.append([k,scipy.stats.binom.pmf(k,N,p)])"
      ],
      "metadata": {
        "id": "XU8XPgbWwYy8"
      },
      "execution_count": null,
      "outputs": []
    },
    {
      "cell_type": "code",
      "source": [
        "l"
      ],
      "metadata": {
        "id": "AIUjZlCeyoO1"
      },
      "execution_count": null,
      "outputs": []
    },
    {
      "cell_type": "code",
      "source": [
        "x = pd.DataFrame(l, columns=[\"k\",\"Wahrscheinlichkeit\"])"
      ],
      "metadata": {
        "id": "uloz9MYGxQmE"
      },
      "execution_count": null,
      "outputs": []
    },
    {
      "cell_type": "code",
      "source": [
        "x.plot(x=\"k\", y=\"Wahrscheinlichkeit\", kind=\"bar\")"
      ],
      "metadata": {
        "id": "Nk7NSmXuxlxW"
      },
      "execution_count": null,
      "outputs": []
    },
    {
      "cell_type": "markdown",
      "source": [
        "### Beispiel Flugzeugmotor"
      ],
      "metadata": {
        "id": "n6WsO4tczCQQ"
      }
    },
    {
      "cell_type": "code",
      "source": [
        "N=4 # Anzahl Motoren\n",
        "p=0.95 # Erfolgswahrscheinlichkeit"
      ],
      "metadata": {
        "id": "x_lxFoJqxcJC"
      },
      "execution_count": null,
      "outputs": []
    },
    {
      "cell_type": "code",
      "source": [
        "scipy.stats.binom.pmf(2,N,p)+scipy.stats.binom.pmf(3,N,p)+scipy.stats.binom.pmf(4,N,p)"
      ],
      "metadata": {
        "id": "9KyvvuRdzLBb"
      },
      "execution_count": null,
      "outputs": []
    },
    {
      "cell_type": "code",
      "source": [
        "probs = []"
      ],
      "metadata": {
        "id": "vuPZZ390zYmk"
      },
      "execution_count": null,
      "outputs": []
    },
    {
      "cell_type": "code",
      "source": [
        "for p in range(1,100):\n",
        "  prob = p/100\n",
        "  prob = np.sum(scipy.stats.binom.pmf(2,N,prob)+scipy.stats.binom.pmf(3,N,prob)+scipy.stats.binom.pmf(4,N,prob))\n",
        "  probs.append([p, prob])\n"
      ],
      "metadata": {
        "id": "J_smI5hhzSM1"
      },
      "execution_count": null,
      "outputs": []
    },
    {
      "cell_type": "code",
      "source": [
        "x = pd.DataFrame(probs, columns=[\"k\",\"Wahrscheinlichkeit\"])"
      ],
      "metadata": {
        "id": "RVssFzliznSh"
      },
      "execution_count": null,
      "outputs": []
    },
    {
      "cell_type": "code",
      "source": [
        "x.plot(x=\"k\", y=\"Wahrscheinlichkeit\", kind=\"line\")"
      ],
      "metadata": {
        "id": "SmhtXd5lzpaM"
      },
      "execution_count": null,
      "outputs": []
    },
    {
      "cell_type": "markdown",
      "source": [
        "### Multinomialverteilung"
      ],
      "metadata": {
        "id": "vmThYsO41qiq"
      }
    },
    {
      "cell_type": "code",
      "source": [
        "scipy.stats.multinomial.pmf([3,2,3,2],10,[0.2,0.2,0.2,0.4])"
      ],
      "metadata": {
        "id": "E5LkMD16z6vd"
      },
      "execution_count": null,
      "outputs": []
    },
    {
      "cell_type": "markdown",
      "source": [
        "## Zentraler Grenzwertsatz"
      ],
      "metadata": {
        "id": "pNSVOjbNbO-9"
      }
    },
    {
      "cell_type": "code",
      "source": [
        "num_trials = 200 # Anzahl Zufallsexperimente\n",
        "num_samples = 1 # Anzahl Zufallsvariablen"
      ],
      "metadata": {
        "id": "dsQ9v6q2gocC"
      },
      "execution_count": null,
      "outputs": []
    },
    {
      "cell_type": "code",
      "source": [
        "# Parameter Binomialverteilung\n",
        "N = 10\n",
        "p = 0.5"
      ],
      "metadata": {
        "id": "nelsNPh9b-s8"
      },
      "execution_count": null,
      "outputs": []
    },
    {
      "cell_type": "code",
      "source": [
        "# Parameter Betaverteilung\n",
        "a = 1\n",
        "b = 5"
      ],
      "metadata": {
        "id": "PqfvP1_nmLCR"
      },
      "execution_count": null,
      "outputs": []
    },
    {
      "cell_type": "code",
      "source": [
        "binom_sample_sum = []\n",
        "beta_sample_sum = []"
      ],
      "metadata": {
        "id": "_jGeCoqdmN9y"
      },
      "execution_count": null,
      "outputs": []
    },
    {
      "cell_type": "code",
      "source": [
        "for trial in range(num_trials):\n",
        "  binom_sample_sum.append([trial, np.sum(scipy.stats.binom.rvs(N,p,size=num_samples))])\n",
        "  beta_sample_sum.append([trial, np.sum(scipy.stats.beta.rvs(a,b,size=num_samples))])"
      ],
      "metadata": {
        "id": "DWff5X7O10u1"
      },
      "execution_count": null,
      "outputs": []
    },
    {
      "cell_type": "code",
      "source": [
        "binom = pd.DataFrame(binom_sample_sum, columns=[\"Trial\",\"Summe\"])\n",
        "beta = pd.DataFrame(beta_sample_sum, columns=[\"Trial\",\"Summe\"])"
      ],
      "metadata": {
        "id": "BWvBabmYb0G-"
      },
      "execution_count": null,
      "outputs": []
    },
    {
      "cell_type": "code",
      "source": [
        "binom[\"Summe\"].plot(kind=\"hist\", edgecolor=\"black\", bins=20)"
      ],
      "metadata": {
        "id": "PQbt0f6acKvz"
      },
      "execution_count": null,
      "outputs": []
    },
    {
      "cell_type": "code",
      "source": [
        "beta[\"Summe\"].plot(kind=\"hist\", edgecolor=\"black\", bins=20)"
      ],
      "metadata": {
        "id": "REg7l6zNdt6f"
      },
      "execution_count": null,
      "outputs": []
    },
    {
      "cell_type": "markdown",
      "source": [
        "## Beispiel Qualitätskontrolle\n",
        "Sei $Y$ der Durchmesser ein Schraube mit $Y\\sim N(\\mu,σ^2)$"
      ],
      "metadata": {
        "id": "V01jR_rtvnN_"
      }
    },
    {
      "cell_type": "code",
      "source": [
        "mue = 5\n",
        "sigma = 0.1"
      ],
      "metadata": {
        "id": "ybGY8kM5e3ir"
      },
      "execution_count": null,
      "outputs": []
    },
    {
      "cell_type": "code",
      "source": [
        "lower = 4.9\n",
        "upper = 5.1"
      ],
      "metadata": {
        "id": "saH1alXFv1E0"
      },
      "execution_count": null,
      "outputs": []
    },
    {
      "cell_type": "code",
      "source": [
        "# Wahrscheinlichkeit P(Y<=4,9)\n"
      ],
      "metadata": {
        "id": "uqbkI1vnwdDZ"
      },
      "execution_count": null,
      "outputs": []
    },
    {
      "cell_type": "code",
      "source": [
        "# Wahrscheinlichkeit P(Y<=5,1)\n"
      ],
      "metadata": {
        "id": "mjJ1lDXpvtc8"
      },
      "execution_count": null,
      "outputs": []
    },
    {
      "cell_type": "code",
      "source": [
        "# Wahrscheinlichkeit P(4,9<Y<=5,1)\n"
      ],
      "metadata": {
        "id": "X89dDWpewU37"
      },
      "execution_count": null,
      "outputs": []
    },
    {
      "cell_type": "code",
      "source": [
        "# Finde den Durchmesser, unter dem 95% aller Schrauben liegen, d.h. 95%-Quantil, F^(-1)(0,95)\n"
      ],
      "metadata": {
        "id": "a9OSIPjtw0uw"
      },
      "execution_count": null,
      "outputs": []
    },
    {
      "cell_type": "markdown",
      "source": [
        "## Beispiel Bestandsmanagement"
      ],
      "metadata": {
        "id": "_8elT_723nIY"
      }
    },
    {
      "cell_type": "code",
      "source": [],
      "metadata": {
        "id": "FJSfnYLM3mav"
      },
      "execution_count": null,
      "outputs": []
    },
    {
      "cell_type": "code",
      "source": [],
      "metadata": {
        "id": "j23WqCLZ8X1v"
      },
      "execution_count": null,
      "outputs": []
    }
  ]
}