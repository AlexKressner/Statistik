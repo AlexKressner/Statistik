{
  "nbformat": 4,
  "nbformat_minor": 0,
  "metadata": {
    "colab": {
      "provenance": [],
      "authorship_tag": "ABX9TyO28KHoJTtFKet536HrKLre",
      "include_colab_link": true
    },
    "kernelspec": {
      "name": "python3",
      "display_name": "Python 3"
    },
    "language_info": {
      "name": "python"
    }
  },
  "cells": [
    {
      "cell_type": "markdown",
      "metadata": {
        "id": "view-in-github",
        "colab_type": "text"
      },
      "source": [
        "<a href=\"https://colab.research.google.com/github/AlexKressner/Statistik/blob/main/Deskriptive_Statistik.ipynb\" target=\"_parent\"><img src=\"https://colab.research.google.com/assets/colab-badge.svg\" alt=\"Open In Colab\"/></a>"
      ]
    },
    {
      "cell_type": "code",
      "execution_count": null,
      "metadata": {
        "id": "gxxfUD9i0ZxJ"
      },
      "outputs": [],
      "source": [
        "# Importieren der notwendigen Bibliotheken\n",
        "import pandas as pd\n",
        "import numpy as np"
      ]
    },
    {
      "cell_type": "code",
      "source": [
        "# Repository von github klonen, damit die Daten verfügbar sind\n",
        "! git clone https://github.com/AlexKressner/Statistik"
      ],
      "metadata": {
        "id": "AdS7ZLXR2IgL"
      },
      "execution_count": null,
      "outputs": []
    },
    {
      "cell_type": "code",
      "source": [
        "pd.options.display.max_columns = 100"
      ],
      "metadata": {
        "id": "9DghqsuF2zko"
      },
      "execution_count": null,
      "outputs": []
    },
    {
      "cell_type": "markdown",
      "source": [
        "# Kaggle Competition **House Price Prediction**\n",
        "https://www.kaggle.com/c/house-prices-advanced-regression-techniques"
      ],
      "metadata": {
        "id": "8sQlyiGj20fC"
      }
    },
    {
      "cell_type": "markdown",
      "source": [
        "## 1. Kennzahlen für diskrete Merkmale"
      ],
      "metadata": {
        "id": "RiB3Lt4y3aOa"
      }
    },
    {
      "cell_type": "code",
      "source": [
        "# Daten laden\n",
        "data = pd.read_csv(\"./Statistik/house_price.csv\")"
      ],
      "metadata": {
        "id": "Z4oOmGCP2Li0"
      },
      "execution_count": null,
      "outputs": []
    },
    {
      "cell_type": "code",
      "source": [
        "data.head()"
      ],
      "metadata": {
        "id": "7AURISpQ2M9A"
      },
      "execution_count": null,
      "outputs": []
    },
    {
      "cell_type": "code",
      "source": [
        "data.YrSold"
      ],
      "metadata": {
        "id": "1MaJzRq72XpW"
      },
      "execution_count": null,
      "outputs": []
    },
    {
      "cell_type": "code",
      "source": [
        "data.YrSold = data.YrSold.astype(\"object\")"
      ],
      "metadata": {
        "id": "bYa7yZ2X4Ny5"
      },
      "execution_count": null,
      "outputs": []
    },
    {
      "cell_type": "markdown",
      "source": [
        "**AUFGABE:** Bitte berechnen Sie die absolute Häufigkeit des Merkmals \"YrSold\"! Nutzen Sie dafür die `pandas` Funktion `value_counts()`!"
      ],
      "metadata": {
        "id": "-xWPqILM-f4q"
      }
    },
    {
      "cell_type": "code",
      "source": [],
      "metadata": {
        "id": "mNhb-kaN-WK6"
      },
      "execution_count": null,
      "outputs": []
    },
    {
      "cell_type": "markdown",
      "source": [
        "**AUFGABE:** Bitte stellen Sie die absoluten Häufigkeite in einem Säulendiagramm dar! Nutzen Sie dafür die Funktion `plot()`.\n",
        "\n"
      ],
      "metadata": {
        "id": "45hhfaLu_OXE"
      }
    },
    {
      "cell_type": "code",
      "source": [],
      "metadata": {
        "id": "XEHB7h3j-weX"
      },
      "execution_count": null,
      "outputs": []
    },
    {
      "cell_type": "markdown",
      "source": [
        "**AUFGABE:** Bitte berechnen Sie die relativen Häufigkeit des Merkmals \"YrSold\"! Passen Sie dafür die Parameter der Funktion zur Berechnung der absoluten Häufigkeit an!"
      ],
      "metadata": {
        "id": "7SOmlxAY_6r-"
      }
    },
    {
      "cell_type": "code",
      "source": [],
      "metadata": {
        "id": "XmGGa_NDAaqX"
      },
      "execution_count": null,
      "outputs": []
    },
    {
      "cell_type": "markdown",
      "source": [
        "**AUFGABE:** Bitte stellen Sie die relativen Häufigkeite in einem Kuchendiagramm dar!"
      ],
      "metadata": {
        "id": "IKR01Ts7AV9h"
      }
    },
    {
      "cell_type": "code",
      "source": [],
      "metadata": {
        "id": "3YWvNYOBAi0G"
      },
      "execution_count": null,
      "outputs": []
    },
    {
      "cell_type": "markdown",
      "source": [
        "**Aufgabe:** Bitte berechnen Sie die empirische Verteilungsfunktion für das Merkmal \"YrSold\"."
      ],
      "metadata": {
        "id": "z98KYzpmJYr2"
      }
    },
    {
      "cell_type": "code",
      "source": [],
      "metadata": {
        "id": "UXDTwCFPItOB"
      },
      "execution_count": null,
      "outputs": []
    },
    {
      "cell_type": "markdown",
      "source": [
        "## 2. Kennzahlen für stetige Merkmale"
      ],
      "metadata": {
        "id": "27Mm9GSlTp6y"
      }
    },
    {
      "cell_type": "markdown",
      "source": [
        "**AUFGABE:** Bitte berechnen Sie das arithmetische Mittel für den Verkaufspreis, d.h. die Spalte `SalePrice`!"
      ],
      "metadata": {
        "id": "SN5xkGIdT4WF"
      }
    },
    {
      "cell_type": "code",
      "source": [],
      "metadata": {
        "id": "nC7WBLsOIs58"
      },
      "execution_count": null,
      "outputs": []
    },
    {
      "cell_type": "markdown",
      "source": [
        "**AUFGABE:** Bitte berechnen Sie den Median für den Verkaufspreis, d.h. die Spalte `SalePrice`!"
      ],
      "metadata": {
        "id": "2ZgbdQ-aUk1i"
      }
    },
    {
      "cell_type": "code",
      "source": [],
      "metadata": {
        "id": "WF7E1w9PHzQg"
      },
      "execution_count": null,
      "outputs": []
    },
    {
      "cell_type": "markdown",
      "source": [
        "**AUFGABE:** Bitte berechnen Sie den Modus für den Verkaufspreis, d.h. die Spalte `SalePrice`!"
      ],
      "metadata": {
        "id": "dBSy9FiAUzg2"
      }
    },
    {
      "cell_type": "code",
      "source": [],
      "metadata": {
        "id": "VUO0aU5yUqVQ"
      },
      "execution_count": null,
      "outputs": []
    },
    {
      "cell_type": "markdown",
      "source": [
        "**AUFGABE:** Erstellen Sie ein Histogramm für das Merkmal `SalePrice`! Nutzen Sie dafür die Funktion `plot`. Wie viele Klassen werden gebildet? Bitte verändern Sie die Einstellungen, damit 20 äquidistante Klassen gebildet werden!"
      ],
      "metadata": {
        "id": "Alk-uenoU8t8"
      }
    },
    {
      "cell_type": "code",
      "source": [],
      "metadata": {
        "id": "ae2rvmq8U8Km"
      },
      "execution_count": null,
      "outputs": []
    },
    {
      "cell_type": "markdown",
      "source": [
        "**AUFGABE:** Erstellen Sie eine Abbildung, die empirische Verteilungsfunktion für das Merkmal `SalePrice` zeigt!"
      ],
      "metadata": {
        "id": "l_1xS4wLhGhT"
      }
    },
    {
      "cell_type": "code",
      "source": [],
      "metadata": {
        "id": "rqEPH9GhVO2I"
      },
      "execution_count": null,
      "outputs": []
    },
    {
      "cell_type": "markdown",
      "source": [
        "**AUFGABE:** Bitte berechnen Sie die Standardabweichung, Varianz und den Variationskoeffizienten für das Merkmal `SalePrice`!"
      ],
      "metadata": {
        "id": "RG9D8I5plOmZ"
      }
    },
    {
      "cell_type": "code",
      "source": [],
      "metadata": {
        "id": "dLqYvz7qkgUy"
      },
      "execution_count": null,
      "outputs": []
    },
    {
      "cell_type": "markdown",
      "source": [
        "**Varianzverschiebungssatz**\n",
        "\n",
        "$s^2= \\frac{1}{N} \\sum_{i=1}^{N} (x_i - \\bar{x})^2 = \\frac{1}{N} \\sum_{i=1}^{N} (x_i)^2 - \\bar{x}^2$"
      ],
      "metadata": {
        "id": "4hELj3LKowyP"
      }
    },
    {
      "cell_type": "code",
      "source": [
        "N = len(data)\n",
        "X_mean = data.SalePrice.mean()"
      ],
      "metadata": {
        "id": "vfVc8oZBpnII"
      },
      "execution_count": null,
      "outputs": []
    },
    {
      "cell_type": "markdown",
      "source": [
        "$s^2= \\frac{1}{N} \\sum_{i=1}^{N} (x_i - \\bar{x})^2$"
      ],
      "metadata": {
        "id": "aXOyiu2vQuLp"
      }
    },
    {
      "cell_type": "code",
      "source": [],
      "metadata": {
        "id": "BpacPNQ1AOmE"
      },
      "execution_count": null,
      "outputs": []
    },
    {
      "cell_type": "markdown",
      "source": [
        "$s^2= \\frac{1}{N} \\sum_{i=1}^{N} (x_i)^2 - \\bar{x}^2$"
      ],
      "metadata": {
        "id": "GlgBxoSlQ19S"
      }
    },
    {
      "cell_type": "code",
      "source": [],
      "metadata": {
        "id": "lmo4hUocARkW"
      },
      "execution_count": null,
      "outputs": []
    },
    {
      "cell_type": "markdown",
      "source": [
        "## 3. Kontingenz- und Korrelationsanalyse"
      ],
      "metadata": {
        "id": "HdNaGg2VoWXp"
      }
    },
    {
      "cell_type": "markdown",
      "source": [
        "**AUFGABE:** Bitte erstellen Sie eine Kreuztabelle für die Merkmale `Fireplaces` und `TotRmsAbvGrd`! Die Kreuztabelle soll die absoluten Häufigkeiten wiederspiegeln."
      ],
      "metadata": {
        "id": "VU_g48Mj3IFT"
      }
    },
    {
      "cell_type": "code",
      "source": [],
      "metadata": {
        "id": "K27_7-o33G-2"
      },
      "execution_count": null,
      "outputs": []
    },
    {
      "cell_type": "markdown",
      "source": [
        "**AUFGABE:** Bitte ergänzen Sie jeweils die Randhäufigkeiten zur Kreuztabelle."
      ],
      "metadata": {
        "id": "9RUyveCX3l0m"
      }
    },
    {
      "cell_type": "code",
      "source": [],
      "metadata": {
        "id": "I41qLeCV3lLy"
      },
      "execution_count": null,
      "outputs": []
    },
    {
      "cell_type": "markdown",
      "source": [
        "**AUFGABE:** Bitte stellen Sie nun die relativen Häufigkeiten in der Kreuztabelle dar."
      ],
      "metadata": {
        "id": "dPA2br_J3sCi"
      }
    },
    {
      "cell_type": "code",
      "source": [],
      "metadata": {
        "id": "ijM5ehTI3rjp"
      },
      "execution_count": null,
      "outputs": []
    },
    {
      "cell_type": "markdown",
      "source": [
        "**AUFGABE:** Bitte erstellen Sie eine Pivottabelle, die für jede Kombination von Verkaufsjahr (`YrSold`) und Qualitätsindex einer Immobilie (`OverallQual`) den mittleren Verkaufspreis (`SalePrice`) wiedergibt."
      ],
      "metadata": {
        "id": "O2wJV61q4Cw0"
      }
    },
    {
      "cell_type": "code",
      "source": [],
      "metadata": {
        "id": "yxkcsguQ4BmZ"
      },
      "execution_count": null,
      "outputs": []
    },
    {
      "cell_type": "markdown",
      "source": [
        "**AUFGABE:** Erstellen Sie einen Scatterplot für die Merkmale `SalePrice` und `GrLivArea`."
      ],
      "metadata": {
        "id": "mNpzuNmX4qNP"
      }
    },
    {
      "cell_type": "code",
      "source": [],
      "metadata": {
        "id": "8yGDpUOR4pjb"
      },
      "execution_count": null,
      "outputs": []
    },
    {
      "cell_type": "markdown",
      "source": [
        "**AUFGABE:** Berechnen Sie den Pearson-Bravais Korrelationskoeffizienten für die Merkmale `SalePrice` und `GrLivArea`."
      ],
      "metadata": {
        "id": "ZtTJoQkW58US"
      }
    },
    {
      "cell_type": "code",
      "source": [],
      "metadata": {
        "id": "dMe1Qtma6JHi"
      },
      "execution_count": null,
      "outputs": []
    },
    {
      "cell_type": "markdown",
      "source": [
        "## 4. Regressionsanalyse"
      ],
      "metadata": {
        "id": "iHQ1c_K-SHfa"
      }
    },
    {
      "cell_type": "code",
      "source": [
        "from sklearn.linear_model import LinearRegression\n",
        "from sklearn.metrics import mean_absolute_error, mean_absolute_percentage_error, r2_score\n",
        "import matplotlib.pyplot as plt"
      ],
      "metadata": {
        "id": "leeDFcKDSuMM"
      },
      "execution_count": null,
      "outputs": []
    },
    {
      "cell_type": "markdown",
      "source": [
        "**AUFGABE:** Bitte bestimmen Sie die Regressionsgerade, die den statistischen Zusammenhang zwischen `SalePrice` und `GrLivArea` bestmöglich beschreibt. Was sind die Parameter ($\\hat{a}, \\hat{b}$) der Regressionsgeraden?"
      ],
      "metadata": {
        "id": "i8xlXj_BSLm-"
      }
    },
    {
      "cell_type": "code",
      "source": [],
      "metadata": {
        "id": "6UmjDoHiSGpZ"
      },
      "execution_count": null,
      "outputs": []
    },
    {
      "cell_type": "markdown",
      "source": [
        "**AUFGABE:** Bitte bestimmen Sie den mittleren absoluten Fehler, den mittleren absoluten prozentualen Fehler sowie das Bestimmtheitsmaß?"
      ],
      "metadata": {
        "id": "YCuoajcYUxKX"
      }
    },
    {
      "cell_type": "code",
      "source": [],
      "metadata": {
        "id": "Lc_e_sUTS9vb"
      },
      "execution_count": null,
      "outputs": []
    },
    {
      "cell_type": "code",
      "source": [],
      "metadata": {
        "id": "_0iDkDkgFD3A"
      },
      "execution_count": null,
      "outputs": []
    },
    {
      "cell_type": "markdown",
      "source": [
        "**AUFGABE:** Bitte erstellen Sie einen Scatter Plot für die Merkmale `GrLivArea` und `SalePrice`, in dem die zuvor berechnete Regressionsgerade eingezeichnet ist?"
      ],
      "metadata": {
        "id": "TQMSSzH-Sk5Z"
      }
    },
    {
      "cell_type": "code",
      "source": [],
      "metadata": {
        "id": "fzBc_RWaSh9j"
      },
      "execution_count": null,
      "outputs": []
    },
    {
      "cell_type": "code",
      "source": [],
      "metadata": {
        "id": "xQ1l3ZP4FsLi"
      },
      "execution_count": null,
      "outputs": []
    }
  ]
}