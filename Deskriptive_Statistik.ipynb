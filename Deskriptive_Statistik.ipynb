{
  "nbformat": 4,
  "nbformat_minor": 0,
  "metadata": {
    "colab": {
      "provenance": [],
      "authorship_tag": "ABX9TyMqtNC/gpKIhVowL7fgENC1",
      "include_colab_link": true
    },
    "kernelspec": {
      "name": "python3",
      "display_name": "Python 3"
    },
    "language_info": {
      "name": "python"
    }
  },
  "cells": [
    {
      "cell_type": "markdown",
      "metadata": {
        "id": "view-in-github",
        "colab_type": "text"
      },
      "source": [
        "<a href=\"https://colab.research.google.com/github/AlexKressner/Statistik/blob/main/Deskriptive_Statistik.ipynb\" target=\"_parent\"><img src=\"https://colab.research.google.com/assets/colab-badge.svg\" alt=\"Open In Colab\"/></a>"
      ]
    },
    {
      "cell_type": "code",
      "execution_count": null,
      "metadata": {
        "id": "gxxfUD9i0ZxJ"
      },
      "outputs": [],
      "source": [
        "# Importieren der notwendigen Bibliotheken\n",
        "import pandas as pd\n",
        "import numpy as np"
      ]
    },
    {
      "cell_type": "code",
      "source": [
        "# Repository von github klonen, damit die Daten verfügbar sind\n",
        "! git clone https://github.com/AlexKressner/Statistik"
      ],
      "metadata": {
        "id": "AdS7ZLXR2IgL"
      },
      "execution_count": null,
      "outputs": []
    },
    {
      "cell_type": "code",
      "source": [
        "pd.options.display.max_columns = 100"
      ],
      "metadata": {
        "id": "9DghqsuF2zko"
      },
      "execution_count": null,
      "outputs": []
    },
    {
      "cell_type": "markdown",
      "source": [
        "# Kaggle Competition **House Price Prediction**\n",
        "https://www.kaggle.com/c/house-prices-advanced-regression-techniques"
      ],
      "metadata": {
        "id": "8sQlyiGj20fC"
      }
    },
    {
      "cell_type": "markdown",
      "source": [
        "## 1. Kennzahlen für diskrete Merkmale"
      ],
      "metadata": {
        "id": "RiB3Lt4y3aOa"
      }
    },
    {
      "cell_type": "code",
      "source": [
        "# Daten laden\n",
        "data = pd.read_csv(\"./Statistik/house_price.csv\")"
      ],
      "metadata": {
        "id": "Z4oOmGCP2Li0"
      },
      "execution_count": null,
      "outputs": []
    },
    {
      "cell_type": "code",
      "source": [
        "data.head()"
      ],
      "metadata": {
        "id": "7AURISpQ2M9A"
      },
      "execution_count": null,
      "outputs": []
    },
    {
      "cell_type": "code",
      "source": [
        "data.YrSold"
      ],
      "metadata": {
        "id": "1MaJzRq72XpW"
      },
      "execution_count": null,
      "outputs": []
    },
    {
      "cell_type": "code",
      "source": [
        "data.YrSold = data.YrSold.astype(\"object\")"
      ],
      "metadata": {
        "id": "bYa7yZ2X4Ny5"
      },
      "execution_count": null,
      "outputs": []
    },
    {
      "cell_type": "markdown",
      "source": [
        "**AUFGABE:** Bitte berechnen Sie die absolute Häufigkeit des Merkmals \"YrSold\"! Nutzen Sie dafür die `pandas` Funktion `value_counts()`!"
      ],
      "metadata": {
        "id": "-xWPqILM-f4q"
      }
    },
    {
      "cell_type": "code",
      "source": [],
      "metadata": {
        "id": "mNhb-kaN-WK6"
      },
      "execution_count": null,
      "outputs": []
    },
    {
      "cell_type": "markdown",
      "source": [
        "**AUFGABE:** Bitte stellen Sie die absoluten Häufigkeite in einem Säulendiagramm dar! Nutzen Sie dafür die Funktion `plot()`.\n",
        "\n"
      ],
      "metadata": {
        "id": "45hhfaLu_OXE"
      }
    },
    {
      "cell_type": "code",
      "source": [],
      "metadata": {
        "id": "XEHB7h3j-weX"
      },
      "execution_count": null,
      "outputs": []
    },
    {
      "cell_type": "markdown",
      "source": [
        "**AUFGABE:** Bitte berechnen Sie die relativen Häufigkeit des Merkmals \"YrSold\"! Passen Sie dafür die Parameter der Funktion zur Berechnung der absoluten Häufigkeit an!"
      ],
      "metadata": {
        "id": "7SOmlxAY_6r-"
      }
    },
    {
      "cell_type": "code",
      "source": [],
      "metadata": {
        "id": "XmGGa_NDAaqX"
      },
      "execution_count": null,
      "outputs": []
    },
    {
      "cell_type": "markdown",
      "source": [
        "**AUFGABE:** Bitte stellen Sie die relativen Häufigkeite in einem Kuchendiagramm dar!"
      ],
      "metadata": {
        "id": "IKR01Ts7AV9h"
      }
    },
    {
      "cell_type": "code",
      "source": [],
      "metadata": {
        "id": "3YWvNYOBAi0G"
      },
      "execution_count": null,
      "outputs": []
    },
    {
      "cell_type": "markdown",
      "source": [
        "**Aufgabe:** Bitte berechnen Sie die empirische Verteilungsfunktion für das Merkmal \"YrSold\"."
      ],
      "metadata": {
        "id": "z98KYzpmJYr2"
      }
    },
    {
      "cell_type": "code",
      "source": [],
      "metadata": {
        "id": "UXDTwCFPItOB"
      },
      "execution_count": null,
      "outputs": []
    },
    {
      "cell_type": "markdown",
      "source": [
        "## 2. Kennzahlen für stetige Merkmale"
      ],
      "metadata": {
        "id": "27Mm9GSlTp6y"
      }
    },
    {
      "cell_type": "markdown",
      "source": [
        "**AUFGABE:** Bitte berechnen Sie das arithmetische Mittel für den Verkaufspreis, d.h. die Spalte `SalePrice`!"
      ],
      "metadata": {
        "id": "SN5xkGIdT4WF"
      }
    },
    {
      "cell_type": "code",
      "source": [],
      "metadata": {
        "id": "nC7WBLsOIs58"
      },
      "execution_count": null,
      "outputs": []
    },
    {
      "cell_type": "markdown",
      "source": [
        "**AUFGABE:** Bitte berechnen Sie den Median für den Verkaufspreis, d.h. die Spalte `SalePrice`!"
      ],
      "metadata": {
        "id": "2ZgbdQ-aUk1i"
      }
    },
    {
      "cell_type": "code",
      "source": [],
      "metadata": {
        "id": "WF7E1w9PHzQg"
      },
      "execution_count": null,
      "outputs": []
    },
    {
      "cell_type": "markdown",
      "source": [
        "**AUFGABE:** Bitte berechnen Sie den Modus für den Verkaufspreis, d.h. die Spalte `SalePrice`!"
      ],
      "metadata": {
        "id": "dBSy9FiAUzg2"
      }
    },
    {
      "cell_type": "code",
      "source": [],
      "metadata": {
        "id": "VUO0aU5yUqVQ"
      },
      "execution_count": null,
      "outputs": []
    },
    {
      "cell_type": "markdown",
      "source": [
        "**AUFGABE:** Erstellen Sie ein Histogramm für das Merkmal `SalePrice`! Nutzen Sie dafür die Funktion `plot`. Wie viele Klassen werden gebildet? Bitte verändern Sie die Einstellungen, damit 20 äquidistante Klassen gebildet werden!"
      ],
      "metadata": {
        "id": "Alk-uenoU8t8"
      }
    },
    {
      "cell_type": "code",
      "source": [],
      "metadata": {
        "id": "ae2rvmq8U8Km"
      },
      "execution_count": null,
      "outputs": []
    },
    {
      "cell_type": "markdown",
      "source": [
        "**AUFGABE:** Erstellen Sie eine Abbildung, die empirische Verteilungsfunktion für das Merkmal `SalePrice` zeigt! Nutzen Sie dafür die Funktionen `np.arange()`, und `plot()`."
      ],
      "metadata": {
        "id": "l_1xS4wLhGhT"
      }
    },
    {
      "cell_type": "code",
      "source": [],
      "metadata": {
        "id": "rqEPH9GhVO2I"
      },
      "execution_count": null,
      "outputs": []
    },
    {
      "cell_type": "markdown",
      "source": [
        "**AUFGABE:** Bitte berechnen Sie die Standardabweichung, Varianz und den Variationskoeffizienten für das Merkmal `SalePrice`!"
      ],
      "metadata": {
        "id": "RG9D8I5plOmZ"
      }
    },
    {
      "cell_type": "code",
      "source": [],
      "metadata": {
        "id": "dLqYvz7qkgUy"
      },
      "execution_count": null,
      "outputs": []
    },
    {
      "cell_type": "markdown",
      "source": [
        "**AUFGABE:** Weisen Sie für das Merkmal `SalePrice` nach, dass beide Formel für die empirische Varianz nach dem Varianzverschiebungssatz in gleichen Werten resultieren!"
      ],
      "metadata": {
        "id": "4hELj3LKowyP"
      }
    },
    {
      "cell_type": "code",
      "source": [],
      "metadata": {
        "id": "vfVc8oZBpnII"
      },
      "execution_count": null,
      "outputs": []
    }
  ]
}